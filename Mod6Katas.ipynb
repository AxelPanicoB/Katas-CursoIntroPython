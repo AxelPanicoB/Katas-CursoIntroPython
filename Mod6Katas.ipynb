{
 "cells": [
  {
   "cell_type": "markdown",
   "metadata": {},
   "source": [
    "## Ejercicio1: Crear y usar listas de Python\n",
    "Ejercicio: Usar listas para almacenar nombres de planetas\n",
    "Las listas permiten almacenar varios valores en una sola variable. Comenzarás un proyecto sobre información planetaria creando una lista de planetas.\n",
    "\n",
    "En primer lugar, crea una variable denominada planets. Agrega los ocho planetas (sin Plutón) a la lista. A continuación, muestra el número de planetas"
   ]
  },
  {
   "cell_type": "code",
   "execution_count": null,
   "metadata": {},
   "outputs": [],
   "source": [
    "planetas = ['Mercury', 'Venus', 'Earth', 'Mars', 'Jupiter', 'Saturn', 'Uranus', 'Neptune']"
   ]
  },
  {
   "cell_type": "markdown",
   "metadata": {},
   "source": [
    "Agrega a Plutón a la lista que creaste. Luego muestra tanto el número de planetas como el último planeta de la lista.\n",
    "\n",
    "Agregamos a plutón y mostramos el último elemento"
   ]
  },
  {
   "cell_type": "code",
   "execution_count": 8,
   "metadata": {},
   "outputs": [
    {
     "name": "stdout",
     "output_type": "stream",
     "text": [
      "Hay: 9 planetas en el sistema solar y el ultimo planeta del sistema solar es: Plutón\n"
     ]
    }
   ],
   "source": [
    "planetas = ['Mercury', 'Venus', 'Earth', 'Mars', 'Jupiter', 'Saturn', 'Uranus', 'Neptune']\n",
    "planetas.append('Plutón')\n",
    "num_planetas = len(planetas)\n",
    "print(\"Hay: %s planetas en el sistema solar y el ultimo planeta del sistema solar es:\"%num_planetas,planetas[-1])"
   ]
  },
  {
   "cell_type": "markdown",
   "metadata": {},
   "source": [
    "## Ejercicio 2: Trabajando con datos de una lista\n",
    "Usar slices para recuperar partes de una lista\n",
    "Es posible que debas trabajar con diferentes secciones de una lista. En nuestro ejemplo, queremos mostrar planetas más cerca y más lejos del sol de un planeta que el usuario ingresa por teclado.\n",
    "\n",
    "Comienza agregando el código para crear una lista con los planetas."
   ]
  },
  {
   "cell_type": "code",
   "execution_count": null,
   "metadata": {},
   "outputs": [],
   "source": [
    "# Lista de planetas\n",
    "planets = ['Mercury', 'Venus', 'Earth', 'Mars', 'Jupiter', 'Saturn', 'Neptune']"
   ]
  },
  {
   "cell_type": "markdown",
   "metadata": {},
   "source": [
    "Solicita al usuario el nombre de un planeta\n",
    "A continuación, agrega el código para solicitar al usuario un nombre. Debido a que las cadenas distinguen entre mayúsculas y minúsculas en Python, pídale al usuario que use una letra mayúscula para comenzar el nombre del planeta."
   ]
  },
  {
   "cell_type": "markdown",
   "metadata": {},
   "source": []
  },
  {
   "cell_type": "code",
   "execution_count": null,
   "metadata": {},
   "outputs": [],
   "source": [
    "print(\"¡Hola benvenido!,ingrese el nombre del planeta cosultar, donde la primera lera inicie con mayuscúla\")\n",
    "new_planet = input(\"Nombre del planeta a consultar: \")"
   ]
  },
  {
   "cell_type": "markdown",
   "metadata": {},
   "source": [
    "Encuentra el planeta en la lista\n",
    "Para determinar qué planetas están más cerca que el que ingresó el usuario, debes encontrar dónde está el planeta en la lista. Puedes utilizar index para realizar esta operación. Agrega el código para encontrar el índice del planeta."
   ]
  },
  {
   "cell_type": "code",
   "execution_count": null,
   "metadata": {},
   "outputs": [],
   "source": [
    "planets = ['Mercury', 'Venus', 'Earth', 'Mars', 'Jupiter', 'Saturn', 'Neptune']\n",
    "print(\"¡Hola benvenido!,ingrese el nombre del planeta cosultar, donde la primera letra inicie con mayuscúla\")\n",
    "serch_planet = input(\"Nombre del planeta a consultar: \")\n",
    "serch = planets.index(serch_planet)\n",
    "print(\" %s esta en la pocision\"%serch_planet, serch+ 1, \",del sistema solar\")\n"
   ]
  },
  {
   "cell_type": "markdown",
   "metadata": {},
   "source": [
    "Mostrar planetas más cercanos al sol que el que el usuario ingresó\n",
    "Con el índice determinado, ahora puedes agregar el código para mostrar los planetas más cercanos al sol."
   ]
  },
  {
   "cell_type": "code",
   "execution_count": null,
   "metadata": {},
   "outputs": [],
   "source": [
    "planets = ['Mercury', 'Venus', 'Earth', 'Mars', 'Jupiter', 'Saturn', 'Neptune']\n",
    "print(\"¡Hola benvenido!,ingrese el nombre del planeta cosultar, donde la primera letra inicie con mayuscúla\")\n",
    "serch_planet = input(\"Nombre del planeta a consultar: \")\n",
    "serch = planets.index(serch_planet)\n",
    "print(\" %s esta en la pocision\"%serch_planet, serch+ 1, \",del sistema solar\")\n",
    "antes_de = planets[0:serch]\n",
    "print(\"Los planetas más cercanos al sol que el que el usuario ingresó, son: \",antes_de)"
   ]
  },
  {
   "cell_type": "markdown",
   "metadata": {},
   "source": [
    "Mostrar planetas más alejados del sol que el que el usuario ingresó\n",
    "Puedes usar el mismo índice para mostrar planetas más alejados del sol. Sin embargo, recuerda que el índice inicial se incluye cuando usas un slice. Como resultado, tendrás que agregar 1 al valor. Agrega el código para mostrar los planetas más alejados del sol."
   ]
  },
  {
   "cell_type": "code",
   "execution_count": null,
   "metadata": {},
   "outputs": [],
   "source": [
    "planets = ['Mercury', 'Venus', 'Earth', 'Mars', 'Jupiter', 'Saturn', 'Neptune']\n",
    "print(\"¡Hola benvenido!,ingrese el nombre del planeta cosultar, donde la primera letra inicie con mayuscúla\")\n",
    "serch_planet = input(\"Nombre del planeta a consultar: \")\n",
    "serch = planets.index(serch_planet)\n",
    "print(\" %s esta en la pocision\"%serch_planet, serch+ 1, \",del sistema solar\")\n",
    "despues_de = planets[serch +1:]\n",
    "print(\"Los planetas más alejados al sol que el que el usuario ingresó, son: \",despues_de)"
   ]
  },
  {
   "cell_type": "markdown",
   "metadata": {},
   "source": [
    "## Codigo completo:"
   ]
  },
  {
   "cell_type": "code",
   "execution_count": null,
   "metadata": {},
   "outputs": [],
   "source": [
    "planets = ['Mercury', 'Venus', 'Earth', 'Mars', 'Jupiter', 'Saturn', 'Neptune']\n",
    "print(\"¡Hola benvenido!,ingrese el nombre del planeta cosultar, donde la primera letra inicie con mayuscúla\")\n",
    "serch_planet = input(\"Nombre del planeta a consultar: \")\n",
    "serch = planets.index(serch_planet)\n",
    "print(\" %s esta en la pocision\"%serch_planet, serch+ 1, \",del sistema solar\")\n",
    "antes_de = planets[0:serch]\n",
    "despues_de = planets[serch +1:]\n",
    "print(\"Los planetas más cercanos al sol que el que el usuario ingresó, son: \",antes_de)\n",
    "print(\"Los planetas más alejados al sol que el que el usuario ingresó, son: \",despues_de)"
   ]
  }
 ],
 "metadata": {
  "interpreter": {
   "hash": "91f4bd6e3141021e18298daf9899218cb95ffd0ab64d73e62fd33703388661c0"
  },
  "kernelspec": {
   "display_name": "Python 3.10.2 64-bit",
   "language": "python",
   "name": "python3"
  },
  "language_info": {
   "codemirror_mode": {
    "name": "ipython",
    "version": 3
   },
   "file_extension": ".py",
   "mimetype": "text/x-python",
   "name": "python",
   "nbconvert_exporter": "python",
   "pygments_lexer": "ipython3",
   "version": "3.10.2"
  },
  "orig_nbformat": 4
 },
 "nbformat": 4,
 "nbformat_minor": 2
}
