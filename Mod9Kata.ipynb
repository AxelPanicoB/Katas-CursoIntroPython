{
 "cells": [
  {
   "cell_type": "markdown",
   "metadata": {},
   "source": [
    "## Ejercicio: Uso de funciones en Python\n",
    "Ejercicio 1: Trabajar con argumentos en funciones\n",
    "Los argumentos requeridos en las funciones se utilizan cuando las funciones necesitan que esos argumentos funcionen correctamente. En este ejercicio, construirás un informe de combustible que requiere información de varias ubicaciones de combustible en todo el cohete.\n",
    "\n",
    "Comienza por crear una función que necesite tres lecturas de combustible y devuelva un informe:"
   ]
  },
  {
   "cell_type": "code",
   "execution_count": null,
   "metadata": {},
   "outputs": [],
   "source": [
    " #Función para leer 3 tanques de combustible y muestre el promedio\n",
    "\n",
    "def reporte(combustible1, combustible2, combusteble3):\n",
    "    promedio = (combustible1 + combustible2 + combusteble3) / 3\n",
    "    return (f\"\"\"Repote: \n",
    "    Promedio: {promedio}%\n",
    "    Tanquee de gasolina1: {combustible1}%\n",
    "    Tanque de gasolina2: {combustible2}% \n",
    "    Tanque de gasolina3: {combusteble3}% \"\"\")\n",
    "\n",
    "#Bloque principal\n",
    "combustible1 = 83\n",
    "combustible2 = 82\n",
    "combusteble3= 89\n",
    "\n"
   ]
  },
  {
   "cell_type": "markdown",
   "metadata": {},
   "source": [
    "Ahora que hemos definido la función de informes, vamos a comprobarlo. Para esta misión, los tanques no están llenos:\n",
    "\n"
   ]
  },
  {
   "cell_type": "code",
   "execution_count": null,
   "metadata": {},
   "outputs": [],
   "source": [
    "# Llamamos a la función que genera el reporte print(funcion(tanque1, tanque2, tanque3))\n",
    "\n",
    "print(reporte(80, 70, 85))"
   ]
  },
  {
   "cell_type": "markdown",
   "metadata": {},
   "source": [
    "En lugar de simplemente crear el informe, la función también está calculando el promedio. Mejora la legibilidad extrayendo el cálculo promedio de la función en una nueva función para que el promedio se pueda hacer de forma independiente:"
   ]
  },
  {
   "cell_type": "code",
   "execution_count": null,
   "metadata": {},
   "outputs": [],
   "source": [
    "# Función promedio \n",
    "def prom(val):\n",
    "    total = sum(val)\n",
    "    items = len(val)\n",
    "    return total / items\n",
    "\n",
    "prom([79, 83, 91])"
   ]
  },
  {
   "cell_type": "markdown",
   "metadata": {},
   "source": [
    "Ahora actualiza la función de informes para llamando a la nueva función del promedio:"
   ]
  },
  {
   "cell_type": "code",
   "execution_count": null,
   "metadata": {},
   "outputs": [],
   "source": [
    "def reporte(combustible1, combustible2, combusteble3):\n",
    "    promedio = (combustible1 + combustible2 + combusteble3) / 3\n",
    "    return (f\"\"\"Repote: \n",
    "    Promedio: {promedio}%\n",
    "    Tanquee de gasolina1: {combustible1}%\n",
    "    Tanque de gasolina2: {combustible2}% \n",
    "    Tanque de gasolina3: {combusteble3}% \"\"\")\n",
    "\n",
    "#Bloque principal\n",
    "combustible1 = 83\n",
    "combustible2 = 82\n",
    "combusteble3= 89\n",
    "print(reporte(combustible1, combustible2,combusteble3))"
   ]
  },
  {
   "cell_type": "markdown",
   "metadata": {},
   "source": [
    "## Ejercicio 2: Trabajo con argumentos de palabra clave\n",
    "Ejercicio : Trabajar con argumentos de palabras clave en funciones\n",
    "En este ejercicio, construirás un informe de cohete que requiere varias piezas de información, como el tiempo hasta el destino, el combustible a la izquierda y el nombre del destino. Comienza por crear una función que creará un informe preciso de la misión:"
   ]
  },
  {
   "cell_type": "code",
   "execution_count": null,
   "metadata": {},
   "outputs": [],
   "source": [
    "# Función con un informe preciso de la misión. Considera hora de prelanzamiento, tiempo de vuelo, destino, tanque externo y tanque interno\n",
    "\n",
    "def Mision(hour_pre,temp_vuelo,destino,tanque_ext,tanque_inter):\n",
    " return(f\"\"\"Mission:\n",
    " Destino de la mission: {destino}\n",
    " Gasolina tanque extrior: {tanque_ext}%\n",
    " Gasolina tanque interior: {tanque_inter}%\n",
    "\n",
    " Bitacora:\n",
    " Pre lazamiento: {hour_pre} horas\n",
    " Tiempo de vuelo: {temp_vuelo} horas\n",
    " Durcion total: {hour_pre + temp_vuelo} horas\n",
    " \"\"\")\n",
    "\n",
    "#bloque principal\n",
    "hour_pre = 12\n",
    "temp_vuelo = 132\n",
    "destino = 'Luna'\n",
    "tanque_ext = 75\n",
    "tanque_inter = 95"
   ]
  },
  {
   "cell_type": "markdown",
   "metadata": {},
   "source": [
    "La función es problemática porque no se puede adaptar para minutos adicionales o tanques adicionales de combustible. Hazlo más flexible permitiendo cualquier número de pasos basados en el tiempo y cualquier número de tanques. En lugar de usar *args y **kwargs, aprovecha el hecho de que puedes usar cualquier nombre que desees. Asegurate que la función sea más legible mediante el uso de nombres de variables que están asociados con las entradas, como *minutes y **fuel_reservoirs:"
   ]
  },
  {
   "cell_type": "code",
   "execution_count": null,
   "metadata": {},
   "outputs": [],
   "source": [
    "# Escribe tu nueva función de reporte considerando lo anterior\n",
    "\n",
    "def reporte(destino, *minutes, **fuel_reservoirs):\n",
    "    return f\"\"\"\n",
    "    La mision es para ir a: {destino}\n",
    "    El tiempo total que tardo el viaje fue de: {sum(minutes)*60} minutos\n",
    "    Total de combustible: {sum(fuel_reservoirs.values())}\n",
    "    \"\"\"\n",
    "\n",
    "#bloque principal\n",
    "hour_pre = 12\n",
    "temp_vuelo = 132\n",
    "\n",
    "print(reporte(\"Luna\",hour_pre,temp_vuelo, principal= 300000,secu = 100000))\n"
   ]
  },
  {
   "cell_type": "markdown",
   "metadata": {},
   "source": [
    "Debido a que el combustible que queda en los tanques es específico de cada tanque, actualiza la función para usar el nombre de cada tanque en el informe:"
   ]
  },
  {
   "cell_type": "code",
   "execution_count": 34,
   "metadata": {},
   "outputs": [
    {
     "name": "stdout",
     "output_type": "stream",
     "text": [
      "\n",
      "    Bitacora de la mision:\n",
      "    \n",
      "    Destino de la mision: Luna\n",
      "    El tiempo total que tardo el viaje fue de: 8640 minutos\n",
      "    Total de combustible: 2233750 L\n",
      "    Combustible primary : 2006750 L\n",
      "Combustible secund_hidrógeno_líquido : 227000 L\n",
      "\n"
     ]
    }
   ],
   "source": [
    "# Escribe tu nueva función\n",
    "\n",
    "def reporte(destino, *minutes, **fuel_reservoirs):\n",
    "    reporte= f\"\"\"\n",
    "    Bitacora de la mision:\n",
    "\n",
    "    Destino de la mision: {destino}\n",
    "    El tiempo total que tardo el viaje fue de: {sum(minutes)*60} minutos\n",
    "    Total de combustible: {sum(fuel_reservoirs.values())} L\n",
    "    \"\"\"\n",
    "    for nom_tanque, combustible in fuel_reservoirs.items():\n",
    "        reporte += f\"Combustible {nom_tanque} : {combustible} L\\n\"\n",
    "    return reporte\n",
    "\n",
    "#bloque principal\n",
    "hour_pre = 12\n",
    "temp_vuelo = 132\n",
    "print(reporte(\"Luna\",hour_pre,temp_vuelo, primary=  2006750, second_hidrógeno_líquido = 227000))\n"
   ]
  }
 ],
 "metadata": {
  "interpreter": {
   "hash": "91f4bd6e3141021e18298daf9899218cb95ffd0ab64d73e62fd33703388661c0"
  },
  "kernelspec": {
   "display_name": "Python 3.10.2 64-bit",
   "language": "python",
   "name": "python3"
  },
  "language_info": {
   "codemirror_mode": {
    "name": "ipython",
    "version": 3
   },
   "file_extension": ".py",
   "mimetype": "text/x-python",
   "name": "python",
   "nbconvert_exporter": "python",
   "pygments_lexer": "ipython3",
   "version": "3.10.2"
  },
  "orig_nbformat": 4
 },
 "nbformat": 4,
 "nbformat_minor": 2
}
